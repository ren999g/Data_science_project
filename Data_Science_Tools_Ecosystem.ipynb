{
 "cells": [
  {
   "cell_type": "markdown",
   "id": "b92b56cc-4a93-41ba-88d0-30efd1b31482",
   "metadata": {},
   "source": [
    "# Tools for data science"
   ]
  },
  {
   "cell_type": "markdown",
   "id": "3d2968cc-1d5f-4f44-a259-4c9430ba25b4",
   "metadata": {},
   "source": [
    "## Introduction\n",
    "In this notebook, we will explore key tools, languages, and libraries used in data science. We will also demonstrate basic arithmetic operations and code examples using Python."
   ]
  },
  {
   "cell_type": "markdown",
   "id": "8cc03a38-41c8-45ab-95f7-24755ff88890",
   "metadata": {},
   "source": [
    "## Data science leguage\n",
    "- Python  \n",
    "- R  \n",
    "- SQL  \n",
    "- Julia  \n",
    "- Scala"
   ]
  },
  {
   "cell_type": "markdown",
   "id": "f63529c8-7bf9-4a48-a219-b08674fa90af",
   "metadata": {},
   "source": [
    "## Commonly Used Data Science Libraries  \n",
    "Python  \n",
    "  - Pandas  \n",
    "  - NumPy  \n",
    "  - Scikit-learn  \n",
    "R\n",
    "  - ggplot2  \n",
    "  - dplyr  "
   ]
  },
  {
   "cell_type": "markdown",
   "id": "5f5812ab-b3ad-4c38-8e2e-cd9bfece15f4",
   "metadata": {},
   "source": [
    "## Data Science Tools  \n",
    "| Category          | Tools                         |  \n",
    "|-------------------|-------------------------------|  \n",
    "| Programming       | Python, R, SQL                |  \n",
    "| Visualization     | Tableau, Matplotlib, Seaborn  |  \n",
    "| Environments      | JupyterLab, RStudio, VS Code  |  \n",
    "| Big Data          | Apache Spark, Hadoop          |  "
   ]
  },
  {
   "cell_type": "markdown",
   "id": "5c008c7d-d64d-4fa7-a5c4-1b96ee036109",
   "metadata": {},
   "source": [
    "## Arithmetic Expression Examples  \n",
    "Below are a few examples of arithmetic expressions in Python:  \n",
    "- Addition: `3 + 5 = 8`  \n",
    "- Multiplication: `2 * 4 = 8`  \n",
    "- Division: `10 / 2 = 5.0`  "
   ]
  },
  {
   "cell_type": "code",
   "execution_count": 1,
   "id": "912b9527-e61b-4a29-9c1a-18823981b452",
   "metadata": {},
   "outputs": [
    {
     "name": "stdout",
     "output_type": "stream",
     "text": [
      "Result of (3*4)+5 = 17\n"
     ]
    }
   ],
   "source": [
    "# Multiply 3 by 4, then add 5 to the result\n",
    "result = (3 * 4) + 5\n",
    "print(\"Result of (3*4)+5 =\", result)"
   ]
  },
  {
   "cell_type": "code",
   "execution_count": 2,
   "id": "1b8b38ed-1fb5-45a4-aca6-6d9592b25a0f",
   "metadata": {},
   "outputs": [
    {
     "name": "stdout",
     "output_type": "stream",
     "text": [
      "350 minutes = 5 hours and 50 minutes\n"
     ]
    }
   ],
   "source": [
    "# Convert 200 minutes to hours\n",
    "minutes = 350\n",
    "hours = minutes // 60\n",
    "remaining_minutes = minutes % 60\n",
    "print(f\"{minutes} minutes = {hours} hours and {remaining_minutes} minutes\")"
   ]
  },
  {
   "cell_type": "code",
   "execution_count": 3,
   "id": "355f4417-8eb5-4888-86b7-3b1a14a353d5",
   "metadata": {},
   "outputs": [
    {
     "name": "stdout",
     "output_type": "stream",
     "text": [
      "Objectives:\n",
      "- List popular data science languages and libraries\n",
      "- Demonstrate arithmetic operations in Python\n",
      "- Share the notebook via GitHub\n"
     ]
    }
   ],
   "source": [
    "# List Objectives  \n",
    "print(\"Objectives:\")  \n",
    "print(\"- List popular data science languages and libraries\")  \n",
    "print(\"- Demonstrate arithmetic operations in Python\")  \n",
    "print(\"- Share the notebook via GitHub\")  "
   ]
  },
  {
   "cell_type": "markdown",
   "id": "54ab5ed6-0fab-4150-a8c8-deb3e341d8c9",
   "metadata": {},
   "source": [
    "## Author  \n",
    "Renzo Alejandro Gorbaran"
   ]
  }
 ],
 "metadata": {
  "kernelspec": {
   "display_name": "Python 3 (ipykernel)",
   "language": "python",
   "name": "python3"
  },
  "language_info": {
   "codemirror_mode": {
    "name": "ipython",
    "version": 3
   },
   "file_extension": ".py",
   "mimetype": "text/x-python",
   "name": "python",
   "nbconvert_exporter": "python",
   "pygments_lexer": "ipython3",
   "version": "3.12.7"
  }
 },
 "nbformat": 4,
 "nbformat_minor": 5
}
